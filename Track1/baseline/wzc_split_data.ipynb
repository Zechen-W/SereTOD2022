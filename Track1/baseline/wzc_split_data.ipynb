{
 "cells": [
  {
   "cell_type": "code",
   "execution_count": 15,
   "metadata": {},
   "outputs": [],
   "source": [
    "import json\n",
    "data = json.load(open('./data/data_label.json', encoding='utf8'))"
   ]
  },
  {
   "cell_type": "code",
   "execution_count": 17,
   "metadata": {},
   "outputs": [],
   "source": [
    "import numpy as np\n",
    "np.random.seed(666)\n",
    "np.random.shuffle(data)\n",
    "np.random.shuffle(data)"
   ]
  },
  {
   "cell_type": "code",
   "execution_count": 19,
   "metadata": {},
   "outputs": [],
   "source": [
    "n = len(data)\n",
    "train_data = data[:int(.8*n)]\n",
    "dev_data = data[int(.8*n):int(.9*n)]\n",
    "test_data = data[int(.9*n):]\n",
    "json.dump(train_data, open('./data/train.json', 'w', encoding='utf8'), indent=4, ensure_ascii=False)\n",
    "json.dump(dev_data, open('./data/dev.json', 'w', encoding='utf8'), indent=4, ensure_ascii=False)\n",
    "json.dump(test_data, open('./data/test.json', 'w', encoding='utf8'), indent=4, ensure_ascii=False)"
   ]
  },
  {
   "cell_type": "code",
   "execution_count": 14,
   "metadata": {},
   "outputs": [],
   "source": [
    "# 将分割的测试的标签去掉\n",
    "import json\n",
    "data = json.load(open('./data/test.json', encoding='utf8'))\n",
    "json.dump([[{\"[SPEAKER 1]\":turn[\"[SPEAKER 1]\"], \"[SPEAKER 2]\":turn[\"[SPEAKER 2]\"]} for turn in passage['content']] for passage in data  ], open('./data/test_unlabeled.json', 'w', encoding='utf8'), indent=4, ensure_ascii=False)"
   ]
  },
  {
   "cell_type": "code",
   "execution_count": null,
   "metadata": {},
   "outputs": [],
   "source": []
  }
 ],
 "metadata": {
  "kernelspec": {
   "display_name": "Python 3.8.13 ('seretod')",
   "language": "python",
   "name": "python3"
  },
  "language_info": {
   "codemirror_mode": {
    "name": "ipython",
    "version": 3
   },
   "file_extension": ".py",
   "mimetype": "text/x-python",
   "name": "python",
   "nbconvert_exporter": "python",
   "pygments_lexer": "ipython3",
   "version": "3.8.13"
  },
  "orig_nbformat": 4,
  "vscode": {
   "interpreter": {
    "hash": "71c3eea4cf5c1ab773b4d45c468614636ae3e3c5339ee60654fd270fba2a0266"
   }
  }
 },
 "nbformat": 4,
 "nbformat_minor": 2
}
