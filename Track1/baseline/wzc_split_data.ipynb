{
 "cells": [
  {
   "cell_type": "code",
   "execution_count": 15,
   "metadata": {},
   "outputs": [],
   "source": [
    "import json\n",
    "data = json.load(open('./data/data_label.json', encoding='utf8'))"
   ]
  },
  {
   "cell_type": "code",
   "execution_count": 17,
   "metadata": {},
   "outputs": [],
   "source": [
    "import numpy as np\n",
    "np.random.seed(666)\n",
    "np.random.shuffle(data)\n",
    "np.random.shuffle(data)"
   ]
  },
  {
   "cell_type": "code",
   "execution_count": 19,
   "metadata": {},
   "outputs": [],
   "source": [
    "n = len(data)\n",
    "train_data = data[:int(.8*n)]\n",
    "dev_data = data[int(.8*n):int(.9*n)]\n",
    "test_data = data[int(.9*n):]\n",
    "json.dump(train_data, open('./data/train.json', 'w', encoding='utf8'), indent=4, ensure_ascii=False)\n",
    "json.dump(dev_data, open('./data/dev.json', 'w', encoding='utf8'), indent=4, ensure_ascii=False)\n",
    "json.dump(test_data, open('./data/test.json', 'w', encoding='utf8'), indent=4, ensure_ascii=False)"
   ]
  },
  {
   "cell_type": "code",
   "execution_count": 3,
   "metadata": {},
   "outputs": [],
   "source": [
    "# 将分割的测试的标签去掉\n",
    "import json\n",
    "data = json.load(open('./data/test_with_labels.json', encoding='utf8'))\n",
    "\n",
    "for dialog in data:\n",
    "    for turn in dialog['content']:\n",
    "        keys = list(turn.keys())\n",
    "        for key in keys[2:]:\n",
    "            turn.pop(key)\n",
    "        turn['info'] = {}\n",
    "json.dump(data, open('./data/test.json', 'w', encoding='utf8'), ensure_ascii=False, indent=4)"
   ]
  },
  {
   "cell_type": "code",
   "execution_count": 1,
   "metadata": {},
   "outputs": [],
   "source": [
    "# 把test_with_triples切成3份\n",
    "import json \n",
    "import numpy as np\n",
    "data = json.load(open('./data/test_with_triples.json', encoding='utf8'))\n",
    "n = len(data)\n",
    "split = np.linspace(0, n, 4, dtype=int)\n",
    "for i in range(3):\n",
    "    json.dump(data[split[i]:split[i+1]], open(f'./data/test_with_triples{i}.json', 'w', encoding='utf8'), indent=4, ensure_ascii=False)"
   ]
  },
  {
   "cell_type": "code",
   "execution_count": 1,
   "metadata": {},
   "outputs": [],
   "source": [
    "# 把最终结果合并\n",
    "import json\n",
    "data = []\n",
    "for i in range(3):\n",
    "    data.extend(json.load(open(f'./data/test_final_results{i}.json', encoding='utf8')))\n",
    "json.dump(data, open(\"./data/test_final_results.json\", 'w', encoding='utf8'), indent=4, ensure_ascii=False)"
   ]
  },
  {
   "cell_type": "code",
   "execution_count": null,
   "metadata": {},
   "outputs": [],
   "source": []
  }
 ],
 "metadata": {
  "kernelspec": {
   "display_name": "Python 3.8.13 ('seretod')",
   "language": "python",
   "name": "python3"
  },
  "language_info": {
   "codemirror_mode": {
    "name": "ipython",
    "version": 3
   },
   "file_extension": ".py",
   "mimetype": "text/x-python",
   "name": "python",
   "nbconvert_exporter": "python",
   "pygments_lexer": "ipython3",
   "version": "3.8.13"
  },
  "orig_nbformat": 4,
  "vscode": {
   "interpreter": {
    "hash": "71c3eea4cf5c1ab773b4d45c468614636ae3e3c5339ee60654fd270fba2a0266"
   }
  }
 },
 "nbformat": 4,
 "nbformat_minor": 2
}
